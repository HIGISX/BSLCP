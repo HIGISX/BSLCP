{
 "cells": [
  {
   "cell_type": "markdown",
   "metadata": {
    "pycharm": {
     "name": "#%% md\n"
    }
   },
   "source": [
    "## Maximum Elder facilities Covering Location Problem  solved by Genetic Algorithm (GA)"
   ]
  },
  {
   "cell_type": "code",
   "execution_count": null,
   "metadata": {
    "ExecuteTime": {
     "end_time": "2025-08-03T07:51:23.930813Z",
     "start_time": "2025-08-03T07:51:23.913567Z"
    },
    "pycharm": {
     "name": "#%%\n"
    }
   },
   "outputs": [],
   "source": [
    "from Algorithm.GA_BSCLP import ImprovedGeneticAlgorithm as GeneticAlgorithm\n",
    "import random\n",
    "import numpy as np\n",
    "from matplotlib import pyplot as plt"
   ]
  },
  {
   "cell_type": "markdown",
   "metadata": {
    "pycharm": {
     "name": "#%% md\n"
    }
   },
   "source": [
    "## Load the real-world datasets"
   ]
  },
  {
   "cell_type": "code",
   "execution_count": null,
   "metadata": {
    "ExecuteTime": {
     "end_time": "2025-08-03T07:51:23.992401Z",
     "start_time": "2025-08-03T07:51:23.979621Z"
    },
    "pycharm": {
     "name": "#%%\n"
    }
   },
   "outputs": [],
   "source": [
    "import geopandas as gpd\n",
    "import pandas as pd\n",
    "import numpy as np\n",
    "import matplotlib.pyplot as plt\n",
    "from matplotlib import colors\n",
    "import time\n",
    "import seaborn as sns\n",
    "from matplotlib.patches import Circle"
   ]
  },
  {
   "cell_type": "markdown",
   "metadata": {
    "pycharm": {
     "name": "#%% md\n"
    }
   },
   "source": [
    "### Demand Population Distribution"
   ]
  },
  {
   "cell_type": "code",
   "execution_count": null,
   "metadata": {
    "ExecuteTime": {
     "end_time": "2025-08-03T07:51:24.085063Z",
     "start_time": "2025-08-03T07:51:24.040918Z"
    },
    "pycharm": {
     "name": "#%%\n"
    }
   },
   "outputs": [],
   "source": [
    "%%time\n",
    "ls = gpd.read_file(r\"D:\\Academic\\Task116_ApplyScience\\allover\\BSLCP\\data\\电网\\powertower_tianhe_a\\HaizhuPowertower_3857.shp\")\n",
    "ls['POINT_X'] = ls.geometry.x\n",
    "ls['POINT_Y'] = ls.geometry.y\n",
    "ls.head(3)"
   ]
  },
  {
   "cell_type": "code",
   "execution_count": null,
   "metadata": {
    "ExecuteTime": {
     "end_time": "2025-08-03T07:51:24.146968Z",
     "start_time": "2025-08-03T07:51:24.132234Z"
    },
    "pycharm": {
     "name": "#%%\n"
    }
   },
   "outputs": [],
   "source": [
    "def normalize_to_1_10(data):\n",
    "    \"\"\"\n",
    "    将一组数据归一化到1-10\n",
    "    \"\"\"\n",
    "    min_val = min(data)\n",
    "    max_val = max(data)\n",
    "    normalized_data = [(x - min_val) / (max_val - min_val) * 9 + 1 for x in data]\n",
    "    return normalized_data\n",
    "# times -1 for maximizing the sum\n",
    "ls['speed_pct_freeflow_rev'] = ls.a\n",
    "ls['speed_pct_freeflow_rev_norm'] = normalize_to_1_10(ls['speed_pct_freeflow_rev'])\n",
    "\n",
    "total_pop = sum(ls['speed_pct_freeflow_rev'])\n",
    "total_pop_norm = sum(ls['speed_pct_freeflow_rev_norm'])\n",
    "print(\"The number of records is \", len(ls))\n",
    "print(\"The total speed unit are \", total_pop)\n",
    "print(\"The total norm speed unit are \", total_pop_norm)"
   ]
  },
  {
   "cell_type": "code",
   "execution_count": null,
   "metadata": {
    "ExecuteTime": {
     "end_time": "2025-08-03T07:51:24.349452Z",
     "start_time": "2025-08-03T07:51:24.335913Z"
    },
    "pycharm": {
     "name": "#%%\n"
    }
   },
   "outputs": [],
   "source": [
    "sitedf = pd.read_csv(r\"D:\\Academic\\Task116_ApplyScience\\allover\\BSLCP\\data\\电网\\powertower_tianhe_a\\HaizhuPowertower.csv\")\n",
    "# sites = np.array(sitedf[['NORM_X', 'NORM_Y']], dtype=np.float64)\n",
    "print(\"The number of billboards in Seattle area is \", len(sitedf))\n",
    "sitedf.head(3)"
   ]
  },
  {
   "cell_type": "markdown",
   "metadata": {
    "pycharm": {
     "name": "#%% md\n"
    }
   },
   "source": [
    "## Normalization"
   ]
  },
  {
   "cell_type": "code",
   "execution_count": null,
   "metadata": {
    "ExecuteTime": {
     "end_time": "2025-08-03T07:51:24.566651Z",
     "start_time": "2025-08-03T07:51:24.552652Z"
    },
    "pycharm": {
     "name": "#%%\n"
    }
   },
   "outputs": [],
   "source": [
    "def Normalization(x, y):\n",
    "    max_x, max_y = np.max(x), np.max(y)\n",
    "    min_x, min_y = np.min(x), np.min(y)\n",
    "    S_x = (max_x-min_x)\n",
    "    S_y = (max_y-min_y)\n",
    "    S = max(S_x, S_y)\n",
    "    new_x, new_y = (x-min_x)/S, (y-min_y)/S\n",
    "    data_xy = np.vstack((new_x, new_y))\n",
    "    Data = data_xy.T\n",
    "    return new_x, new_y, S"
   ]
  },
  {
   "cell_type": "code",
   "execution_count": null,
   "metadata": {
    "ExecuteTime": {
     "end_time": "2025-08-03T07:51:24.676033Z",
     "start_time": "2025-08-03T07:51:24.662296Z"
    },
    "pycharm": {
     "name": "#%%\n"
    }
   },
   "outputs": [],
   "source": [
    "ls_X = np.array(ls['POINT_X'])\n",
    "ls_Y = np.array(ls['POINT_Y'])\n",
    "bbs_X = np.array(sitedf['POINT_X'])\n",
    "bbs_Y = np.array(sitedf['POINT_Y'])\n",
    "X = np.concatenate([ls_X, bbs_X])\n",
    "Y = np.concatenate([ls_Y, bbs_Y])\n",
    "NORM_X, NORM_Y, S = Normalization(X, Y)\n",
    "ls['NORM_X'] = NORM_X[:len(ls)]\n",
    "ls['NORM_Y'] = NORM_Y[:len(ls)]\n",
    "sitedf['NORM_X'] = NORM_X[len(ls):]\n",
    "sitedf['NORM_Y'] = NORM_Y[len(ls):]"
   ]
  },
  {
   "cell_type": "code",
   "execution_count": null,
   "metadata": {
    "ExecuteTime": {
     "end_time": "2025-08-03T07:51:24.782953Z",
     "start_time": "2025-08-03T07:51:24.768251Z"
    },
    "pycharm": {
     "name": "#%%\n"
    }
   },
   "outputs": [],
   "source": [
    "def generate_candidate_sites(sites, M=100, heuristic = None):\n",
    "    '''\n",
    "    Generate M candidate sites with the convex hull of a point set\n",
    "    Input:\n",
    "        sites: a Pandas DataFrame with X, Y and other characteristic\n",
    "        M: the number of candidate sites to generate\n",
    "        heuristic:\n",
    "    Return:\n",
    "        sites: a Numpy array with shape of (M,2)\n",
    "    '''\n",
    "\n",
    "    if M is not None:\n",
    "        if M > len(sites):\n",
    "            M = None\n",
    "    if heuristic is None or heuristic == '':\n",
    "        if M is None:\n",
    "            return sites\n",
    "        np.random.seed(0)\n",
    "        index = np.random.choice(len(sites), M)\n",
    "        return sites.iloc[index]\n",
    "    elif heuristic == 'coverage':\n",
    "        sites = sites.sort_values(by='pop_covered_2km', ascending=False).reset_index()\n",
    "        if M is None:\n",
    "            return sites\n",
    "        return sites.iloc[:M]\n",
    "    elif heuristic == 'coverage_e':\n",
    "        sites = sites.sort_values(by='pop_covered_2km_exclusive', ascending=False).reset_index()\n",
    "        if M is None:\n",
    "            return sites\n",
    "        return sites.iloc[:M]\n",
    "    elif heuristic == 'impression':\n",
    "        sites = sites.sort_values(by='weeklyImpr', ascending=False).reset_index()\n",
    "        if M is None:\n",
    "            return sites\n",
    "        return sites.iloc[:M]\n",
    "    elif heuristic == 'impression_e':\n",
    "        sites = sites.sort_values(by='weeklyImpr_2km_exclusive', ascending=False).reset_index()\n",
    "        if M is None:\n",
    "            return sites\n",
    "        return sites.iloc[:M]"
   ]
  },
  {
   "cell_type": "code",
   "execution_count": null,
   "metadata": {
    "ExecuteTime": {
     "end_time": "2025-08-03T07:51:24.845751Z",
     "start_time": "2025-08-03T07:51:24.832209Z"
    },
    "pycharm": {
     "name": "#%%\n"
    },
    "scrolled": true
   },
   "outputs": [],
   "source": [
    "bbs_ = generate_candidate_sites(sitedf, M=None, heuristic=\"\")"
   ]
  },
  {
   "cell_type": "code",
   "execution_count": null,
   "metadata": {
    "ExecuteTime": {
     "end_time": "2025-08-03T07:51:24.907005Z",
     "start_time": "2025-08-03T07:51:24.892996Z"
    },
    "pycharm": {
     "name": "#%%\n"
    }
   },
   "outputs": [],
   "source": [
    "users = np.array(ls[['NORM_X', 'NORM_Y']])\n",
    "facilities = np.array(bbs_[['NORM_X', 'NORM_Y']])\n",
    "demand = np.array(ls['speed_pct_freeflow_rev'])\n",
    "p = 25\n",
    "real_radius = 1000\n",
    "radius = real_radius/S\n",
    "print(S)\n",
    "\n",
    "dist = np.sum((facilities[:, np.newaxis, :] - users[np.newaxis, :, :]) ** 2, axis=-1) ** 0.5\n",
    "A = np.sum((facilities[:, np.newaxis, :] - users[np.newaxis, :, :]) ** 2, axis=-1) ** 0.5\n",
    "mask1 = A <= radius\n",
    "A[mask1] = 1\n",
    "A[~mask1] = 0"
   ]
  },
  {
   "cell_type": "code",
   "execution_count": null,
   "metadata": {
    "ExecuteTime": {
     "end_time": "2025-08-03T07:51:25.479284Z",
     "start_time": "2025-08-03T07:51:24.970952Z"
    },
    "pycharm": {
     "name": "#%%\n"
    },
    "scrolled": true
   },
   "outputs": [],
   "source": [
    "w = 0.8\n",
    "start_time = time.time()\n",
    "distance_matrix = np.sqrt(np.sum((facilities[:, np.newaxis, :] - users[np.newaxis, :, :]) ** 2, axis=-1))\n",
    "\n",
    "genetic = GeneticAlgorithm(n=len(ls), m=len(bbs_), p=p, cost_matrix=distance_matrix, r=radius,\n",
    "                               demand=demand, w=w, elite_num=2)\n",
    "genetic.optimize()\n",
    "\n",
    "    # 最终的目标函数值是 top_chromosome.fitness 的相反数\n",
    "obj = -genetic.top_chromosome.fitness\n",
    "centers = genetic.top_chromosome.content\n",
    "time = genetic.time\n",
    "\n",
    "\n",
    "print(\"The Set of centers are:\", centers)\n",
    "print(\"Objective value (no penalty):\", round(obj, 2))\n",
    "print(f\"time: {time} seconds\")\n",
    "# # 1. 初始化用于存储每次运行结果的列表\n",
    "# total_objectives = []\n",
    "# total_coverages = []\n",
    "# total_times = []\n",
    "#\n",
    "# # To store the details of the best run\n",
    "# best_overall_objective = -np.inf\n",
    "# best_overall_solution = None\n",
    "# best_overall_coverage = 0\n",
    "#\n",
    "# # Set the number of runs\n",
    "# num_runs = 1000\n",
    "#\n",
    "# print(f\"Starting {num_runs} runs of the Genetic Algorithm...\")\n",
    "#\n",
    "# # 2. Loop through the runs\n",
    "# for i in range(num_runs):\n",
    "#     # Print progress\n",
    "#     print(f\"--- Running {i+1}/{num_runs} ---\")\n",
    "#\n",
    "#\n",
    "#     # --- Core part of your original code ---\n",
    "#     w1 = 0.6\n",
    "#     w2 = 0.4\n",
    "#     da = 1000 / S\n",
    "#     db = 2000 / S\n",
    "#     D_max = 2000 / S\n",
    "#\n",
    "#     start_time = time.time()\n",
    "#\n",
    "#     selected_indices = np.random.choice(len(facilities), 100, replace=False)\n",
    "#     selected_indices.sort()\n",
    "#     subset_facilities = facilities[selected_indices]\n",
    "#     subset_dist = dist[selected_indices, :]\n",
    "#     subset_A = A[selected_indices, :]\n",
    "#\n",
    "#\n",
    "#     genetic = GeneticAlgorithmVectorized(n=len(ls), m=len(subset_facilities), p=p,\n",
    "#         users=users, facilities=subset_facilities,\n",
    "#         demand=demand, w1=w1, w2=w2,\n",
    "#         da=da, db=db, D_max=D_max,\n",
    "#         A=subset_A, dist=subset_dist)\n",
    "#\n",
    "#     centers, obj, coverage = genetic.optimize()\n",
    "#\n",
    "#     end_time = time.time()\n",
    "#     execution_time = end_time - start_time\n",
    "#     # --- End of core part ---\n",
    "#\n",
    "#     # 3. Add results from the current run to lists\n",
    "#     total_objectives.append(obj)\n",
    "#     total_coverages.append(coverage)\n",
    "#     total_times.append(execution_time)\n",
    "#\n",
    "#     # 4. Check if this run is the best one so far\n",
    "#     if obj > best_overall_objective:\n",
    "#         best_overall_objective = obj\n",
    "#         best_overall_solution = centers\n",
    "#         best_overall_coverage = coverage\n",
    "#         print(f\"!!! New best solution found. Objective: {round(obj, 2)} !!!\")\n",
    "#\n",
    "#\n",
    "# print(f\"\\nAll {num_runs} runs completed!\")\n",
    "#\n",
    "# # 5. Calculate average results\n",
    "# avg_objective = np.mean(total_objectives)\n",
    "# avg_coverage = np.mean(total_coverages)\n",
    "# avg_time = np.mean(total_times)\n",
    "#\n",
    "# # 6. Output the final average results and the best sequence\n",
    "# print(\"\\n--- Average Results ---\")\n",
    "# print(f\"Average Objective value: {round(avg_objective, 2)}\")\n",
    "# print(\"Average Coverage rate: {:.2%}\".format(avg_coverage))\n",
    "# print(f\"Average time: {avg_time:.4f} seconds\")\n",
    "#\n",
    "# print(\"\\n--- Best Overall Result ---\")\n",
    "# print(f\"Maximum Objective value found: {round(best_overall_objective, 2)}\")\n",
    "# print(f\"Coverage rate for the best run: {best_overall_coverage:.2%}\")\n",
    "# print(f\"The sequence that produced the maximum value is: \\n{best_overall_solution}\")"
   ]
  },
  {
   "cell_type": "code",
   "execution_count": null,
   "metadata": {},
   "outputs": [],
   "source": []
  },
  {
   "cell_type": "code",
   "execution_count": null,
   "metadata": {
    "ExecuteTime": {
     "end_time": "2025-08-03T07:51:25.712989Z",
     "start_time": "2025-08-03T07:51:25.698782Z"
    },
    "pycharm": {
     "name": "#%%\n"
    }
   },
   "outputs": [],
   "source": [
    "\n",
    "def plot_result(ls, opt_sites, radius):\n",
    "    '''\n",
    "    Plot the result\n",
    "    Input:\n",
    "        points: input points, Numpy array in shape of [N,2]\n",
    "        opt_sites: locations K optimal sites, Pandas DataFrame\n",
    "        radius: the radius of circle\n",
    "    '''\n",
    "    fig, ax = plt.subplots(figsize=(20, 12))\n",
    "    # 创建一个自定义的颜色映射\n",
    "    cmap = plt.cm.Blues\n",
    "    new_cmap = colors.ListedColormap(cmap(np.linspace(0.15, 1, 256)))\n",
    "    ls.plot(ax=ax, column=ls['speed_pct_freeflow_rev'], k=5, markersize=5, cmap=new_cmap, label='over-65 Population')\n",
    "    legend_plot_flag = {'current': False, 'selected': False}\n",
    "\n",
    "    for cnt, site in opt_sites.iterrows():\n",
    "        if 'current' in opt_sites.columns and site['current'] == True:  #ncurrent\n",
    "            if legend_plot_flag['current'] == False:\n",
    "                ax.scatter(site['POINT_X'], site['POINT_Y'], c='red', marker='+', s=10, label='Current Billboards')\n",
    "                circlelabel = 'Service Range for Current Billboards'\n",
    "                legend_plot_flag['current'] = True\n",
    "            ax.scatter(site['POINT_X'], site['POINT_Y'], c='red', marker='+', s=100)\n",
    "            #             circle = plt.Circle(site[['POINT_X','POINT_Y']], radius, color='red', fill=False, lw=2, label = circlelabel)\n",
    "            circle = plt.Circle(site[['POINT_X', 'POINT_Y']], radius, color='red', fill=False, lw=2)\n",
    "\n",
    "            ax.add_artist(circle)\n",
    "        else:\n",
    "            if legend_plot_flag['selected'] == False:\n",
    "                ax.scatter(site['POINT_X'], site['POINT_Y'], c='C1', marker='+', s=10,\n",
    "                           label='Optimized Selected Elder Facilities')\n",
    "                circlelabel = 'Service Range for Optimized Selected Billboards'\n",
    "                legend_plot_flag['selected'] = True\n",
    "            ax.scatter(site['POINT_X'], site['POINT_Y'], c='C1', marker='+', s=100)\n",
    "            #             circle = plt.Circle(site[['POINT_X','POINT_Y']], radius, color='C1', fill=False, lw=2, label = circlelabel)\n",
    "            circle = plt.Circle(site[['POINT_X', 'POINT_Y']], radius/2, color='C1', fill=False, lw=2)\n",
    "            ax.add_artist(circle)\n",
    "\n",
    "    ax.axis('scaled')\n",
    "    ax.tick_params(axis='both', left=False, top=False, right=False,\n",
    "                   bottom=False, labelleft=False, labeltop=False,\n",
    "                   labelright=False, labelbottom=False)\n",
    "    title = 'Selected ' + str(len(opt_sites)) + ' Sites that Serve ' + str(radius) + ' m(GA)'\n",
    "    ax.set_title(title, fontsize=20)\n",
    "    render_scale_bar(ax=ax, x=0.05, y=0.05)\n",
    "    render_north_arrow(ax=ax, x=0.95, y=0.95, size=0.01, ratio=0.7)\n",
    "    ax.legend(loc='lower right', markerscale=2)\n",
    "    return ax"
   ]
  },
  {
   "cell_type": "code",
   "execution_count": null,
   "metadata": {
    "ExecuteTime": {
     "end_time": "2025-08-03T07:51:25.775392Z",
     "start_time": "2025-08-03T07:51:25.760794Z"
    },
    "pycharm": {
     "name": "#%%\n"
    }
   },
   "outputs": [],
   "source": [
    "def render_scale_bar(ax, x, y, segments=2, height=0.01, seg_length=2000, unit='m', linewidth=1.):\n",
    "    unit_scale_factor = {\n",
    "        'm': 1,\n",
    "        'km': 1000,\n",
    "        'meters': 1,\n",
    "        'kilometers': 1000,\n",
    "        'miles': 1609.34,\n",
    "        'mi': 1609.34,\n",
    "        'ft': 0.3,\n",
    "        }\n",
    "    x_lim = ax.get_xlim()\n",
    "    y_lim = ax.get_ylim()\n",
    "\n",
    "    # how much percent does one unit takes on the x axis\n",
    "    x_per_unit = 1. / (x_lim[1] - x_lim[0])\n",
    "    y_per_unit = 1. / (y_lim[1] - y_lim[0])\n",
    "\n",
    "    # base for ticks (0, 1)\n",
    "    x_base = [x + seg_length * unit_scale_factor[unit] * x_per_unit * i for i in range(0, segments + 1)]\n",
    "    ax.axhline(y_lim[0] + y / y_per_unit, x_base[0], x_base[-1], c='black')\n",
    "    y_base = [y, y + height]\n",
    "    for i in range(segments + 1):\n",
    "        ax.axvline(x_lim[0] + x_base[i] / x_per_unit, y, y + height, c='black')\n",
    "        xy = (x_lim[0] + x_base[i] / x_per_unit, y_lim[0] + (y - 0.015) / y_per_unit)  # data_coords\n",
    "        ax.text(xy[0], xy[1], s='{}'.format(int(seg_length * i)), horizontalalignment='center', verticalalignment='center')\n",
    "    ax.text(x_lim[0] + (x_base[-1] + 0.02) / x_per_unit, y_lim[0] + (y - 0.015) / y_per_unit,\n",
    "            s=unit, horizontalalignment='left',\n",
    "            verticalalignment='center')\n",
    "    ax.grid(False)\n",
    "def render_north_arrow(ax, x, y, size, ratio = 1):\n",
    "    path = [(0, 1), (-ratio, -1), (0, -0.5), (ratio, -1), (0, 1)]\n",
    "    path = [(i[0] * size + x, i[1] * size + y) for i in path]\n",
    "    arrow = plt.Polygon(path, color='black', transform=ax.transAxes)\n",
    "    ax.add_patch(arrow)\n",
    "    ax.text(x, y-size*2, s = 'N', horizontalalignment='center', verticalalignment='center', transform=ax.transAxes)"
   ]
  },
  {
   "cell_type": "code",
   "execution_count": null,
   "metadata": {
    "ExecuteTime": {
     "end_time": "2025-08-03T07:51:26.160911Z",
     "start_time": "2025-08-03T07:51:25.824200Z"
    },
    "pycharm": {
     "name": "#%%\n"
    }
   },
   "outputs": [],
   "source": [
    "best_overall_solution = [156, 79, 92, 220, 256, 167, 150, 17, 108, 185, 288, 27, 12, 114, 210, 125, 127, 22, 89, 205, 68, 206, 62, 174, 101]\n",
    "opt_sites = bbs_.iloc[best_overall_solution]\n",
    "plot_result(ls,opt_sites,1000)"
   ]
  },
  {
   "cell_type": "code",
   "execution_count": null,
   "metadata": {},
   "outputs": [],
   "source": [
    "best_overall_solution_improved_GA = [156, 79, 92, 220, 256, 167, 150, 17, 108, 185, 288, 27, 12, 114, 210, 125, 127, 22, 89, 205, 68, 206, 62, 174, 101]\n",
    "opt_sites = bbs_.iloc[best_overall_solution_improved_GA]\n",
    "plot_result(ls,opt_sites,1000)"
   ]
  },
  {
   "cell_type": "code",
   "execution_count": null,
   "metadata": {},
   "outputs": [],
   "source": [
    "# 收敛曲线：记录每代最优目标函数值并绘图\n",
    "import time as pytime\n",
    "\n",
    "class GeneticAlgorithmWithHistory(GeneticAlgorithm):\n",
    "    \"\"\"\n",
    "    在优化过程中记录 best-so-far 目标函数值序列（收敛曲线）。\n",
    "    说明：GA 基类最小化 fitness (= -objective)，故记录的 objective = -fitness。\n",
    "    \"\"\"\n",
    "    def __init__(self, *args, **kwargs):\n",
    "        super().__init__(*args, **kwargs)\n",
    "        self.history = []  # 每代的 best-so-far 目标函数值（越大越好）\n",
    "\n",
    "    def optimize(self):\n",
    "        start_time = pytime.time()\n",
    "        chromosomes = self.initial_random_population()\n",
    "        # 记录初始解对应的目标函数值\n",
    "        self.history = [-self.top_chromosome.fitness]\n",
    "        while self.current_iteration < self.iterations:\n",
    "            for_reproduction = self.selection(chromosomes)\n",
    "            chromosomes = self.create_generation(for_reproduction)\n",
    "            self.current_iteration += 1\n",
    "            chromosome_with_min_fitness = min(chromosomes, key=lambda chromo: chromo.fitness)\n",
    "            if chromosome_with_min_fitness.fitness < self.top_chromosome.fitness:\n",
    "                self.top_chromosome = chromosome_with_min_fitness\n",
    "            # 记录迭代后的 best-so-far 目标函数值\n",
    "            self.history.append(-self.top_chromosome.fitness)\n",
    "        end_time = pytime.time()\n",
    "        self.time = end_time - start_time\n",
    "        hours, rem = divmod(end_time - start_time, 3600)\n",
    "        minutes, seconds = divmod(rem, 60)\n",
    "        print(\"\\nFinal top solution: %s\" % self.top_chromosome)\n",
    "        print('Time: {:0>2}:{:0>2}:{:05.4f}'.format(int(hours), int(minutes), seconds))\n",
    "        return self.top_chromosome.content, -self.top_chromosome.fitness, self.history\n",
    "\n",
    "\n",
    "def plot_convergence_curve(distance_matrix, p, radius, demand, w=0.8,\n",
    "                           iterations=None, generation_size=None, reproduction_size=None,\n",
    "                           mutation_prob=None, elite_num=2, figsize=(8,4)):\n",
    "    \"\"\"\n",
    "    绘制 GA 收敛曲线：随着代数迭代 best-so-far 目标函数值的变化。\n",
    "    参数：\n",
    "      - distance_matrix: np.ndarray [M,N] 设施-需求的距离矩阵\n",
    "      - p: 选择设施个数\n",
    "      - radius: 覆盖半径（与 distance_matrix 同尺度）\n",
    "      - demand: 长度 N 的需求数组\n",
    "      - w: 目标函数权重（主/备覆盖）\n",
    "      - iterations/generation_size/reproduction_size/mutation_prob: 可选地覆盖 GA 超参\n",
    "      - elite_num: 精英保留个数（Improved GA 专用）\n",
    "    返回：history（每代 best-so-far 目标函数值）\n",
    "    \"\"\"\n",
    "    n_users = distance_matrix.shape[1]\n",
    "    m_facilities = distance_matrix.shape[0]\n",
    "    ga = GeneticAlgorithmWithHistory(n=n_users, m=m_facilities, p=p,\n",
    "                                     cost_matrix=distance_matrix, r=radius,\n",
    "                                     demand=np.array(demand, dtype=float), w=w, elite_num=elite_num)\n",
    "    if iterations is not None:\n",
    "        ga.iterations = int(iterations)\n",
    "    if generation_size is not None:\n",
    "        ga.generation_size = int(generation_size)\n",
    "    if reproduction_size is not None:\n",
    "        ga.reproduction_size = int(reproduction_size)\n",
    "    if mutation_prob is not None:\n",
    "        ga.mutation_prob = float(mutation_prob)\n",
    "\n",
    "    ga.optimize()\n",
    "\n",
    "    # 绘图\n",
    "    plt.figure(figsize=figsize)\n",
    "    plt.plot(range(len(ga.history)), ga.history, color='C0', marker='o', markersize=3, linewidth=1,\n",
    "             label='Best-so-far objective')\n",
    "    plt.xlabel('Generation')\n",
    "    plt.ylabel('Objective value')\n",
    "    plt.title('GA Convergence Curve (w={:.2f}, p={})'.format(w, p))\n",
    "    plt.grid(alpha=0.3)\n",
    "    plt.legend(loc='lower right')\n",
    "    plt.tight_layout()\n",
    "    plt.show()\n",
    "\n",
    "    return ga.history\n",
    "\n",
    "# 使用示例（运行前确保已定义 distance_matrix, p, radius, demand, w）：\n",
    "hist = plot_convergence_curve(distance_matrix, p, radius, demand, w=w, iterations=200, elite_num=2)\n",
    "\n"
   ]
  },
  {
   "cell_type": "code",
   "execution_count": null,
   "metadata": {},
   "outputs": [],
   "source": [
    "# 直接绘制当前设置下（distance_matrix, p, radius, demand, w）的收敛曲线\n",
    "# 运行前请先执行上文，确保已定义 distance_matrix, p, radius, demand, w\n",
    "hist = plot_convergence_curve(distance_matrix, p, radius, demand, w=w, iterations=200, elite_num=2)\n",
    "print('History length:', len(hist))\n",
    "print('Best objective:', max(hist) if len(hist)>0 else None)\n"
   ]
  },
  {
   "cell_type": "code",
   "execution_count": null,
   "metadata": {},
   "outputs": [],
   "source": [
    "# 多超参数设置的收敛曲线对比（同一张图）\n",
    "# 运行前请确保 distance_matrix, p, radius, demand, w 已定义\n",
    "\n",
    "import numpy as np, random\n",
    "import pandas as pd\n",
    "import matplotlib.pyplot as plt\n",
    "\n",
    "# 固定随机种子，便于对比复现（如不需要可注释掉）\n",
    "random.seed(0); np.random.seed(0)\n",
    "\n",
    "n_users = distance_matrix.shape[1]\n",
    "m_facilities = distance_matrix.shape[0]\n",
    "\n",
    "# 超参数组：可按需增删\n",
    "param_sets = [\n",
    "    {\"label\": \"gen=50, repr=20, mut=0.10, elite=2\", \"iterations\": 200, \"generation_size\": 50, \"reproduction_size\": 20, \"mutation_prob\": 0.10, \"elite_num\": 2},\n",
    "    {\"label\": \"gen=50, repr=20, mut=0.20, elite=2\", \"iterations\": 200, \"generation_size\": 50, \"reproduction_size\": 20, \"mutation_prob\": 0.20, \"elite_num\": 2},\n",
    "    {\"label\": \"gen=80, repr=30, mut=0.10, elite=2\", \"iterations\": 200, \"generation_size\": 80, \"reproduction_size\": 30, \"mutation_prob\": 0.10, \"elite_num\": 2},\n",
    "    {\"label\": \"gen=50, repr=20, mut=0.10, elite=0\", \"iterations\": 200, \"generation_size\": 50, \"reproduction_size\": 20, \"mutation_prob\": 0.10, \"elite_num\": 0},\n",
    "]\n",
    "\n",
    "histories = []\n",
    "summary_rows = []\n",
    "\n",
    "for ps in param_sets:\n",
    "    ga = GeneticAlgorithmWithHistory(n=n_users, m=m_facilities, p=p,\n",
    "                                     cost_matrix=distance_matrix, r=radius,\n",
    "                                     demand=np.array(demand, dtype=float), w=w, elite_num=ps[\"elite_num\"]) \n",
    "    ga.iterations = int(ps[\"iterations\"]) \n",
    "    ga.generation_size = int(ps[\"generation_size\"]) \n",
    "    ga.reproduction_size = int(ps[\"reproduction_size\"]) \n",
    "    ga.mutation_prob = float(ps[\"mutation_prob\"]) \n",
    "\n",
    "    ga.optimize()\n",
    "\n",
    "    hist = ga.history\n",
    "    histories.append((ps[\"label\"], hist))\n",
    "    summary_rows.append({\n",
    "        \"label\": ps[\"label\"],\n",
    "        \"iterations\": len(hist) - 1,\n",
    "        \"best_objective\": float(max(hist)) if len(hist) > 0 else np.nan,\n",
    "        \"final_objective\": float(hist[-1]) if len(hist) > 0 else np.nan,\n",
    "        \"generation_size\": ps[\"generation_size\"],\n",
    "        \"reproduction_size\": ps[\"reproduction_size\"],\n",
    "        \"mutation_prob\": ps[\"mutation_prob\"],\n",
    "        \"elite_num\": ps[\"elite_num\"],\n",
    "    })\n",
    "\n",
    "# 绘图：同一坐标系\n",
    "plt.figure(figsize=(12, 6))\n",
    "for label, hist in histories:\n",
    "    plt.plot(range(len(hist)), hist, linewidth=1.6, label=label)\n",
    "plt.xlabel(\"Generation\")\n",
    "plt.ylabel(\"Objective value\")\n",
    "plt.title(\"GA convergence under different hyperparameters\")\n",
    "plt.grid(alpha=0.3)\n",
    "plt.legend(loc='lower right')\n",
    "plt.tight_layout()\n",
    "plt.show()\n",
    "\n",
    "# 汇总表\n",
    "df_compare = pd.DataFrame(summary_rows)\n",
    "display(df_compare.sort_values(\"best_objective\", ascending=False).reset_index(drop=True))\n",
    "\n"
   ]
  },
  {
   "cell_type": "code",
   "execution_count": null,
   "metadata": {},
   "outputs": [],
   "source": [
    "# Print hardware/software environment versions (for paper reproducibility)\n",
    "import platform, sys, importlib\n",
    "import pandas as pd\n",
    "\n",
    "# Gurobi version (robust)\n",
    "try:\n",
    "    import gurobipy as gp\n",
    "    try:\n",
    "        vt = gp.gurobi.version()\n",
    "        gurobi_version = '.'.join(map(str, vt))\n",
    "    except Exception:\n",
    "        gurobi_version = getattr(gp, '__version__', 'Unknown')\n",
    "except Exception:\n",
    "    gurobi_version = 'Not installed'\n",
    "\n",
    "# Generic version getter\n",
    "def get_version(module_name: str, attr: str = '__version__') -> str:\n",
    "    try:\n",
    "        m = importlib.import_module(module_name)\n",
    "        v = getattr(m, attr, None)\n",
    "        if v is None:\n",
    "            # some packages expose version differently\n",
    "            if module_name == 'matplotlib':\n",
    "                import matplotlib\n",
    "                v = matplotlib.__version__\n",
    "            else:\n",
    "                v = 'Unknown'\n",
    "        return str(v)\n",
    "    except Exception:\n",
    "        return 'Not installed'\n",
    "\n",
    "rows = [\n",
    "    ('OS', f\"{platform.system()} {platform.release()} ({platform.version()})\"),\n",
    "    ('Machine', platform.machine()),\n",
    "    ('Python', platform.python_version()),\n",
    "    ('Gurobi', gurobi_version),\n",
    "    ('NumPy', get_version('numpy')),\n",
    "    ('Pandas', get_version('pandas')),\n",
    "    ('Matplotlib', get_version('matplotlib')),\n",
    "    ('Seaborn', get_version('seaborn')),\n",
    "    ('scikit-learn', get_version('sklearn')),\n",
    "    ('GeoPandas', get_version('geopandas')),\n",
    "    ('Shapely', get_version('shapely')),\n",
    "    ('Fiona', get_version('fiona')),\n",
    "    ('PyProj', get_version('pyproj')),\n",
    "    ('QGIS (qgis)', get_version('qgis')),\n",
    "    ('ArcGIS (arcpy)', get_version('arcpy')),\n",
    "]\n",
    "\n",
    "df_env = pd.DataFrame(rows, columns=['Component', 'Version'])\n",
    "display(df_env)\n",
    "\n",
    "# Optional: also print plain text for easy copy-paste\n",
    "for k, v in rows:\n",
    "    print(f\"{k}: {v}\")\n",
    "\n"
   ]
  }
 ],
 "metadata": {
  "kernelspec": {
   "display_name": "geo",
   "language": "python",
   "name": "python3"
  },
  "language_info": {
   "codemirror_mode": {
    "name": "ipython",
    "version": 3
   },
   "file_extension": ".py",
   "mimetype": "text/x-python",
   "name": "python",
   "nbconvert_exporter": "python",
   "pygments_lexer": "ipython3",
   "version": "3.10.16"
  },
  "toc": {
   "base_numbering": 1,
   "nav_menu": {},
   "number_sections": true,
   "sideBar": true,
   "skip_h1_title": false,
   "title_cell": "Table of Contents",
   "title_sidebar": "Contents",
   "toc_cell": false,
   "toc_position": {},
   "toc_section_display": true,
   "toc_window_display": false
  }
 },
 "nbformat": 4,
 "nbformat_minor": 1
}
